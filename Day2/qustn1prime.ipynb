{
 "cells": [
  {
   "cell_type": "code",
   "execution_count": 3,
   "metadata": {},
   "outputs": [
    {
     "name": "stdout",
     "output_type": "stream",
     "text": [
      "Enter the lower limit:2\n",
      "Enter the upper limit:15\n",
      "2 3 5 7 11 13 "
     ]
    }
   ],
   "source": [
    "# type in the starting point for the prime no.\n",
    "lower=int(input(\"Enter the lower limit:\"))\n",
    "# type in the ending point for the prime no.\n",
    "upper=int(input(\"Enter the upper limit:\"))\n",
    "\n",
    "for prime in range(lower,upper + 1):  \n",
    "   if prime > 1:  \n",
    "       for i in range(2,prime):  \n",
    "           if (prime % i) == 0:  \n",
    "               break  \n",
    "       else:  \n",
    "           print(prime,end=\" \")  "
   ]
  }
 ],
 "metadata": {
  "kernelspec": {
   "display_name": "Python 3",
   "language": "python",
   "name": "python3"
  },
  "language_info": {
   "codemirror_mode": {
    "name": "ipython",
    "version": 3
   },
   "file_extension": ".py",
   "mimetype": "text/x-python",
   "name": "python",
   "nbconvert_exporter": "python",
   "pygments_lexer": "ipython3",
   "version": "3.8.5"
  }
 },
 "nbformat": 4,
 "nbformat_minor": 4
}
